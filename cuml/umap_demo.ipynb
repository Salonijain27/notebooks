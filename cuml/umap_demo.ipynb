{
 "cells": [
  {
   "cell_type": "markdown",
   "metadata": {},
   "source": [
    "# Uniform Manifold Approximation and Projection (UMAP)\n",
    "UMAP is a dimensionality reduction algorithm which performs non-linear dimension reduction. It can also be used for visualization of the dataset. The UMAP model implemented in cuml allows the user to set the following parameter values:\n",
    "1.\tn_neighbors: number of neighboring sample used for manifold approximation. Larger values result in more global views of the manifold, while smaller values result in more local data being preserved\n",
    "2.\tn_components: the dimension of the space to embed into\n",
    "3.\tn_epochs: number of training epochs to be used in optimizing the low dimensional embedding\n",
    "4.\tlearning_rate: initial learning rate for the embedding optimization.\n",
    "5.\tinit: the low dimensional embedding to use: a. 'spectral': use a spectral embedding of the fuzzy 1-skeleton b. 'random': assign initial embedding positions at random.\n",
    "6.\tmin_dist: The minimum distance that should be present between embedded points.\n",
    "7.\tspread: determines how clustered the embedded points will be.\n",
    "8.\tset_op_mix_ratio: is the ratio of pure fuzzy union to intersection. If the value is 1.0 then it will be a pure fuzzy union and for the value of 0.0 it will be a pure fuzzy interpolation.\n",
    "9.\tlocal_connectivity: number of nearest neighbors that should be assumed to be connected at a local level. It should be not more than the local intrinsic dimension of the manifold.\n",
    "10.\trepulsion_strength: Weighting applied to negative samples in low dimensional embedding\n",
    "optimization. Values > 1 implements a higher negative value to the samples.\n",
    "11.\tnegative_sample_rate: The rate at which the negative samples should be selected per positive sample during the optimization process.\n",
    "12.\ttransform_queue_size: embedding new points using a trained model_ will control how aggressively to search for nearest neighbors.\n",
    "13.\tverbose: bool (optional, default False)\n",
    "\n",
    "The cuml implemetation of the UMAP model has the following functions that one can run:\n",
    "1.\tfit: it fits the dataset into an embedded space\n",
    "2.\tfit_transform: it fits the dataset into an embedded space and returns the transformed output\n",
    "3.\ttransform: it transforms the dataset into an existing embedded space and returns the low dimensional output\n",
    "\n",
    "The model accepts only numpy arrays or cudf dataframes as the input. In order to convert your dataset to cudf format please read the cudf documentation on https://rapidsai.github.io/projects/cudf/en/latest/. For additional information on the linear regression model please refer to the documentation on https://rapidsai.github.io/projects/cuml/en/latest/index.html"
   ]
  },
  {
   "cell_type": "code",
   "execution_count": 1,
   "metadata": {},
   "outputs": [],
   "source": [
    "import numpy as np\n",
    "import pandas as pd\n",
    "\n",
    "import cudf\n",
    "import os\n",
    "\n",
    "from sklearn import datasets\n",
    "from sklearn.metrics import adjusted_rand_score\n",
    "from sklearn.cluster import KMeans\n",
    "from sklearn.manifold.t_sne import trustworthiness\n",
    "\n",
    "from cuml.manifold.umap import UMAP"
   ]
  },
  {
   "cell_type": "markdown",
   "metadata": {},
   "source": [
    "# Running UMAP model on blobs dataset"
   ]
  },
  {
   "cell_type": "code",
   "execution_count": 2,
   "metadata": {},
   "outputs": [],
   "source": [
    "# create a blobs dataset with 500 samples and 10 features each\n",
    "data, labels = datasets.make_blobs(\n",
    "    n_samples=500, n_features=10, centers=5)"
   ]
  },
  {
   "cell_type": "code",
   "execution_count": 3,
   "metadata": {},
   "outputs": [],
   "source": [
    "# using the cuml UMAP algorithm to reduce the features of the dataset and store\n",
    "embedding = UMAP().fit_transform(data)"
   ]
  },
  {
   "cell_type": "code",
   "execution_count": 4,
   "metadata": {},
   "outputs": [],
   "source": [
    "# calculate the score of the results obtained using cuml's algorithm and sklearn kmeans\n",
    "score = adjusted_rand_score(labels,\n",
    "            KMeans(5).fit_predict(embedding))\n",
    "\n",
    "assert score == 1.0"
   ]
  },
  {
   "cell_type": "markdown",
   "metadata": {},
   "source": [
    "# Running UMAP model on iris dataset"
   ]
  },
  {
   "cell_type": "code",
   "execution_count": 5,
   "metadata": {},
   "outputs": [],
   "source": [
    "# load the iris dataset from sklearn and extract the required information\n",
    "iris = datasets.load_iris()\n",
    "data = iris.data"
   ]
  },
  {
   "cell_type": "code",
   "execution_count": 6,
   "metadata": {
    "scrolled": true
   },
   "outputs": [],
   "source": [
    "# define the cuml UMAP model and use fit_transform function to obtain the low dimensional output of the input dataset\n",
    "embedding = UMAP(\n",
    "    n_neighbors=10, min_dist=0.01,  init=\"random\"\n",
    ").fit_transform(data)"
   ]
  },
  {
   "cell_type": "code",
   "execution_count": 7,
   "metadata": {},
   "outputs": [],
   "source": [
    "# calculate the trust worthiness of the results obtaind from the cuml UMAP\n",
    "trust = trustworthiness(iris.data, embedding, 10)\n",
    "assert trust >= 0.95"
   ]
  },
  {
   "cell_type": "code",
   "execution_count": 8,
   "metadata": {},
   "outputs": [],
   "source": [
    "# create a selection variable which will have 75% True and 25% False values. The size of the selection variable is 150\n",
    "iris_selection = np.random.choice(\n",
    "    [True, False], 150, replace=True, p=[0.75, 0.25])\n",
    "# create an iris dataset using the selection variable\n",
    "data = iris.data[iris_selection]"
   ]
  },
  {
   "cell_type": "code",
   "execution_count": 9,
   "metadata": {},
   "outputs": [],
   "source": [
    "# create a cuml UMAP model \n",
    "fitter = UMAP(n_neighbors=10, min_dist=0.01, verbose=True)\n",
    "# fit the data created the selection variable to the cuml UMAP model created (fitter)\n",
    "fitter.fit(data)\n",
    "# create a new iris dataset by inverting the values of the selection variable (ie. 75% False and 25% True values) \n",
    "new_data = iris.data[~iris_selection]\n",
    "# transform the new data using the previously created embedded space\n",
    "embedding = fitter.transform(new_data)"
   ]
  },
  {
   "cell_type": "code",
   "execution_count": 10,
   "metadata": {},
   "outputs": [],
   "source": [
    "# calculate the trustworthiness score for the new data created (new_data)\n",
    "trust = trustworthiness(new_data, embedding, 10)\n",
    "assert trust >= 0.90"
   ]
  },
  {
   "cell_type": "code",
   "execution_count": null,
   "metadata": {},
   "outputs": [],
   "source": []
  }
 ],
 "metadata": {
  "kernelspec": {
   "display_name": "Python 3",
   "language": "python",
   "name": "python3"
  },
  "language_info": {
   "codemirror_mode": {
    "name": "ipython",
    "version": 3
   },
   "file_extension": ".py",
   "mimetype": "text/x-python",
   "name": "python",
   "nbconvert_exporter": "python",
   "pygments_lexer": "ipython3",
   "version": "3.7.2"
  }
 },
 "nbformat": 4,
 "nbformat_minor": 2
}
